{
 "cells": [
  {
   "cell_type": "code",
   "execution_count": 1,
   "metadata": {
    "colab": {
     "base_uri": "https://localhost:8080/"
    },
    "executionInfo": {
     "elapsed": 36403,
     "status": "ok",
     "timestamp": 1626012835427,
     "user": {
      "displayName": "박민성",
      "photoUrl": "",
      "userId": "08980322067180288543"
     },
     "user_tz": -540
    },
    "id": "SB_TJ7LVB8jF",
    "outputId": "a612faa9-da4f-4f2a-d3ea-1e7bf59bdb36"
   },
   "outputs": [
    {
     "name": "stdout",
     "output_type": "stream",
     "text": [
      "Mounted at /content/drive/\n"
     ]
    }
   ],
   "source": [
    "from google.colab import drive\n",
    "drive.mount('/content/drive/')"
   ]
  },
  {
   "cell_type": "code",
   "execution_count": 1,
   "metadata": {
    "colab": {
     "base_uri": "https://localhost:8080/"
    },
    "executionInfo": {
     "elapsed": 6063,
     "status": "ok",
     "timestamp": 1626012867704,
     "user": {
      "displayName": "박민성",
      "photoUrl": "",
      "userId": "08980322067180288543"
     },
     "user_tz": -540
    },
    "id": "9EbglUDtXNZQ",
    "outputId": "e55cbeca-d396-4483-b6e5-94dca98c85fc"
   },
   "outputs": [
    {
     "name": "stdout",
     "output_type": "stream",
     "text": [
      "NanumBarunGothic\n"
     ]
    }
   ],
   "source": [
    "%matplotlib inline  \n",
    "\n",
    "import matplotlib as mpl \n",
    "import matplotlib.pyplot as plt \n",
    "import matplotlib.font_manager as fm  \n",
    "\n",
    "!apt-get update -qq\n",
    "!apt-get install fonts-nanum* -qq\n",
    "\n",
    "path = '/usr/share/fonts/truetype/nanum/NanumBarunGothic.ttf' \n",
    "font_name = fm.FontProperties(fname=path, size=10).get_name()\n",
    "print(font_name)\n",
    "plt.rc('font', family=font_name)\n",
    "\n",
    "fm._rebuild()\n",
    "mpl.rcParams['axes.unicode_minus'] = False\n",
    "#런타임 다시 사작"
   ]
  },
  {
   "cell_type": "code",
   "execution_count": 6,
   "metadata": {
    "executionInfo": {
     "elapsed": 386,
     "status": "ok",
     "timestamp": 1626013308258,
     "user": {
      "displayName": "박민성",
      "photoUrl": "",
      "userId": "08980322067180288543"
     },
     "user_tz": -540
    },
    "id": "Ks0WWkDsJe6K"
   },
   "outputs": [],
   "source": [
    "import pandas as pd\n"
   ]
  },
  {
   "cell_type": "code",
   "execution_count": 4,
   "metadata": {
    "executionInfo": {
     "elapsed": 114504,
     "status": "ok",
     "timestamp": 1626013175505,
     "user": {
      "displayName": "박민성",
      "photoUrl": "",
      "userId": "08980322067180288543"
     },
     "user_tz": -540
    },
    "id": "qIzEB2MA_Ttq"
   },
   "outputs": [],
   "source": [
    "\n",
    "#energy = pd.read_csv(\"/content/drive/My Drive/관광/NATIVE.txt\",sep='|')\n",
    "df = pd.read_csv(\"/content/drive/My Drive/관광/NATIVE_RE.txt\")"
   ]
  },
  {
   "cell_type": "code",
   "execution_count": 5,
   "metadata": {
    "colab": {
     "base_uri": "https://localhost:8080/",
     "height": 419
    },
    "executionInfo": {
     "elapsed": 29,
     "status": "ok",
     "timestamp": 1626013175514,
     "user": {
      "displayName": "박민성",
      "photoUrl": "",
      "userId": "08980322067180288543"
     },
     "user_tz": -540
    },
    "id": "0mOaig30_5Gg",
    "outputId": "c4ca5db2-4d46-4ee7-9454-930d3b3efd76"
   },
   "outputs": [
    {
     "data": {
      "text/html": [
       "<div>\n",
       "<style scoped>\n",
       "    .dataframe tbody tr th:only-of-type {\n",
       "        vertical-align: middle;\n",
       "    }\n",
       "\n",
       "    .dataframe tbody tr th {\n",
       "        vertical-align: top;\n",
       "    }\n",
       "\n",
       "    .dataframe thead th {\n",
       "        text-align: right;\n",
       "    }\n",
       "</style>\n",
       "<table border=\"1\" class=\"dataframe\">\n",
       "  <thead>\n",
       "    <tr style=\"text-align: right;\">\n",
       "      <th></th>\n",
       "      <th>v1|v2|v3|gb3|gb2|sex_ccd|cln_age_r|ta_ym|daw_ccd_r|apv_ts_dl_tm_r|vlm|usec</th>\n",
       "    </tr>\n",
       "  </thead>\n",
       "  <tbody>\n",
       "    <tr>\n",
       "      <th>0</th>\n",
       "      <td>세종|세종|.|취미오락|외식|M|30|201701|RED|활동|351296766|1...</td>\n",
       "    </tr>\n",
       "    <tr>\n",
       "      <th>1</th>\n",
       "      <td>세종|세종|.|취미오락|종합쇼핑|M|50|201701|RED|휴식|72244196|...</td>\n",
       "    </tr>\n",
       "    <tr>\n",
       "      <th>2</th>\n",
       "      <td>세종|세종|.|취미오락|종합쇼핑|M|30|201701|WHITE|휴식|5329110...</td>\n",
       "    </tr>\n",
       "    <tr>\n",
       "      <th>3</th>\n",
       "      <td>충남|세종|.|취미오락|종합쇼핑|M|50|201701|WHITE|활동|5097253...</td>\n",
       "    </tr>\n",
       "    <tr>\n",
       "      <th>4</th>\n",
       "      <td>충남|세종|.|취미오락|종합쇼핑|M|40|201701|RED|휴식|19104457|408</td>\n",
       "    </tr>\n",
       "    <tr>\n",
       "      <th>...</th>\n",
       "      <td>...</td>\n",
       "    </tr>\n",
       "    <tr>\n",
       "      <th>52714749</th>\n",
       "      <td>울산|부산|해운대구|취미오락|유흥|F|50|202104|WHITE|활동|65910|15</td>\n",
       "    </tr>\n",
       "    <tr>\n",
       "      <th>52714750</th>\n",
       "      <td>경남|부산|해운대구|여행|체험|M|40|202012|RED|휴식|38325|5</td>\n",
       "    </tr>\n",
       "    <tr>\n",
       "      <th>52714751</th>\n",
       "      <td>울산|부산|해운대구|문화예술활동|사진촬영|M|60|202104|RED|활동|1014...</td>\n",
       "    </tr>\n",
       "    <tr>\n",
       "      <th>52714752</th>\n",
       "      <td>대전|부산|해운대구|취미오락|패션쇼핑|M|30|202103|RED|활동|45720|5</td>\n",
       "    </tr>\n",
       "    <tr>\n",
       "      <th>52714753</th>\n",
       "      <td>울산|부산|해운대구|취미오락|목욕|M|50|202011|RED|활동|122640|15</td>\n",
       "    </tr>\n",
       "  </tbody>\n",
       "</table>\n",
       "<p>52714754 rows × 1 columns</p>\n",
       "</div>"
      ],
      "text/plain": [
       "         v1|v2|v3|gb3|gb2|sex_ccd|cln_age_r|ta_ym|daw_ccd_r|apv_ts_dl_tm_r|vlm|usec\n",
       "0         세종|세종|.|취미오락|외식|M|30|201701|RED|활동|351296766|1...                        \n",
       "1         세종|세종|.|취미오락|종합쇼핑|M|50|201701|RED|휴식|72244196|...                        \n",
       "2         세종|세종|.|취미오락|종합쇼핑|M|30|201701|WHITE|휴식|5329110...                        \n",
       "3         충남|세종|.|취미오락|종합쇼핑|M|50|201701|WHITE|활동|5097253...                        \n",
       "4         충남|세종|.|취미오락|종합쇼핑|M|40|201701|RED|휴식|19104457|408                        \n",
       "...                                                     ...                        \n",
       "52714749   울산|부산|해운대구|취미오락|유흥|F|50|202104|WHITE|활동|65910|15                        \n",
       "52714750        경남|부산|해운대구|여행|체험|M|40|202012|RED|휴식|38325|5                        \n",
       "52714751  울산|부산|해운대구|문화예술활동|사진촬영|M|60|202104|RED|활동|1014...                        \n",
       "52714752    대전|부산|해운대구|취미오락|패션쇼핑|M|30|202103|RED|활동|45720|5                        \n",
       "52714753    울산|부산|해운대구|취미오락|목욕|M|50|202011|RED|활동|122640|15                        \n",
       "\n",
       "[52714754 rows x 1 columns]"
      ]
     },
     "execution_count": 5,
     "metadata": {
      "tags": []
     },
     "output_type": "execute_result"
    }
   ],
   "source": [
    "df"
   ]
  },
  {
   "cell_type": "code",
   "execution_count": 6,
   "metadata": {
    "executionInfo": {
     "elapsed": 28165,
     "status": "ok",
     "timestamp": 1626013206193,
     "user": {
      "displayName": "박민성",
      "photoUrl": "",
      "userId": "08980322067180288543"
     },
     "user_tz": -540
    },
    "id": "DIdJpFIULA-K"
   },
   "outputs": [],
   "source": [
    "result = df[df['v1|v2|v3|gb3|gb2|sex_ccd|cln_age_r|ta_ym|daw_ccd_r|apv_ts_dl_tm_r|vlm|usec'].str.contains('2020')]"
   ]
  },
  {
   "cell_type": "code",
   "execution_count": 7,
   "metadata": {
    "executionInfo": {
     "elapsed": 42146,
     "status": "ok",
     "timestamp": 1626013248311,
     "user": {
      "displayName": "박민성",
      "photoUrl": "",
      "userId": "08980322067180288543"
     },
     "user_tz": -540
    },
    "id": "4iABbq1CGbcg"
   },
   "outputs": [],
   "source": [
    "result.to_csv('/content/drive/My Drive/관광/result_txt.txt',index=False)"
   ]
  },
  {
   "cell_type": "code",
   "execution_count": 7,
   "metadata": {
    "executionInfo": {
     "elapsed": 29388,
     "status": "ok",
     "timestamp": 1626013348878,
     "user": {
      "displayName": "박민성",
      "photoUrl": "",
      "userId": "08980322067180288543"
     },
     "user_tz": -540
    },
    "id": "sQXqtucuGmxN"
   },
   "outputs": [],
   "source": [
    "a= pd.read_csv(\"/content/drive/My Drive/관광/result_txt.txt\",sep='|')"
   ]
  },
  {
   "cell_type": "code",
   "execution_count": 8,
   "metadata": {
    "colab": {
     "base_uri": "https://localhost:8080/",
     "height": 419
    },
    "executionInfo": {
     "elapsed": 1224,
     "status": "ok",
     "timestamp": 1626013350089,
     "user": {
      "displayName": "박민성",
      "photoUrl": "",
      "userId": "08980322067180288543"
     },
     "user_tz": -540
    },
    "id": "UOQ7YphXJSqH",
    "outputId": "55cbc363-7969-4db1-944f-e6a9433f5544"
   },
   "outputs": [
    {
     "data": {
      "text/html": [
       "<div>\n",
       "<style scoped>\n",
       "    .dataframe tbody tr th:only-of-type {\n",
       "        vertical-align: middle;\n",
       "    }\n",
       "\n",
       "    .dataframe tbody tr th {\n",
       "        vertical-align: top;\n",
       "    }\n",
       "\n",
       "    .dataframe thead th {\n",
       "        text-align: right;\n",
       "    }\n",
       "</style>\n",
       "<table border=\"1\" class=\"dataframe\">\n",
       "  <thead>\n",
       "    <tr style=\"text-align: right;\">\n",
       "      <th></th>\n",
       "      <th>v1</th>\n",
       "      <th>v2</th>\n",
       "      <th>v3</th>\n",
       "      <th>gb3</th>\n",
       "      <th>gb2</th>\n",
       "      <th>sex_ccd</th>\n",
       "      <th>cln_age_r</th>\n",
       "      <th>ta_ym</th>\n",
       "      <th>daw_ccd_r</th>\n",
       "      <th>apv_ts_dl_tm_r</th>\n",
       "      <th>vlm</th>\n",
       "      <th>usec</th>\n",
       "    </tr>\n",
       "  </thead>\n",
       "  <tbody>\n",
       "    <tr>\n",
       "      <th>0</th>\n",
       "      <td>경기</td>\n",
       "      <td>경기</td>\n",
       "      <td>오산시</td>\n",
       "      <td>취미오락</td>\n",
       "      <td>외식</td>\n",
       "      <td>F</td>\n",
       "      <td>20</td>\n",
       "      <td>201701</td>\n",
       "      <td>WHITE</td>\n",
       "      <td>휴식</td>\n",
       "      <td>443819721</td>\n",
       "      <td>20202</td>\n",
       "    </tr>\n",
       "    <tr>\n",
       "      <th>1</th>\n",
       "      <td>경기</td>\n",
       "      <td>서울</td>\n",
       "      <td>동작구</td>\n",
       "      <td>취미오락</td>\n",
       "      <td>교육훈련</td>\n",
       "      <td>M</td>\n",
       "      <td>60</td>\n",
       "      <td>201701</td>\n",
       "      <td>WHITE</td>\n",
       "      <td>활동</td>\n",
       "      <td>20205112</td>\n",
       "      <td>236</td>\n",
       "    </tr>\n",
       "    <tr>\n",
       "      <th>2</th>\n",
       "      <td>전남</td>\n",
       "      <td>전남</td>\n",
       "      <td>광양시</td>\n",
       "      <td>취미오락</td>\n",
       "      <td>유흥</td>\n",
       "      <td>M</td>\n",
       "      <td>50</td>\n",
       "      <td>201701</td>\n",
       "      <td>WHITE</td>\n",
       "      <td>취침</td>\n",
       "      <td>26202080</td>\n",
       "      <td>190</td>\n",
       "    </tr>\n",
       "    <tr>\n",
       "      <th>3</th>\n",
       "      <td>부산</td>\n",
       "      <td>부산</td>\n",
       "      <td>금정구</td>\n",
       "      <td>취미오락</td>\n",
       "      <td>인터넷게임</td>\n",
       "      <td>M</td>\n",
       "      <td>60</td>\n",
       "      <td>201701</td>\n",
       "      <td>WHITE</td>\n",
       "      <td>활동</td>\n",
       "      <td>3162020</td>\n",
       "      <td>60</td>\n",
       "    </tr>\n",
       "    <tr>\n",
       "      <th>4</th>\n",
       "      <td>충북</td>\n",
       "      <td>서울</td>\n",
       "      <td>종로구</td>\n",
       "      <td>여행</td>\n",
       "      <td>관광쇼핑</td>\n",
       "      <td>F</td>\n",
       "      <td>40</td>\n",
       "      <td>201701</td>\n",
       "      <td>RED</td>\n",
       "      <td>활동</td>\n",
       "      <td>6932020</td>\n",
       "      <td>69</td>\n",
       "    </tr>\n",
       "    <tr>\n",
       "      <th>...</th>\n",
       "      <td>...</td>\n",
       "      <td>...</td>\n",
       "      <td>...</td>\n",
       "      <td>...</td>\n",
       "      <td>...</td>\n",
       "      <td>...</td>\n",
       "      <td>...</td>\n",
       "      <td>...</td>\n",
       "      <td>...</td>\n",
       "      <td>...</td>\n",
       "      <td>...</td>\n",
       "      <td>...</td>\n",
       "    </tr>\n",
       "    <tr>\n",
       "      <th>11270809</th>\n",
       "      <td>경기</td>\n",
       "      <td>부산</td>\n",
       "      <td>해운대구</td>\n",
       "      <td>취미오락</td>\n",
       "      <td>패션쇼핑</td>\n",
       "      <td>F</td>\n",
       "      <td>60</td>\n",
       "      <td>202008</td>\n",
       "      <td>WHITE</td>\n",
       "      <td>휴식</td>\n",
       "      <td>127750</td>\n",
       "      <td>5</td>\n",
       "    </tr>\n",
       "    <tr>\n",
       "      <th>11270810</th>\n",
       "      <td>울산</td>\n",
       "      <td>부산</td>\n",
       "      <td>해운대구</td>\n",
       "      <td>문화예술활동</td>\n",
       "      <td>사진촬영</td>\n",
       "      <td>M</td>\n",
       "      <td>30</td>\n",
       "      <td>202008</td>\n",
       "      <td>WHITE</td>\n",
       "      <td>휴식</td>\n",
       "      <td>1946910</td>\n",
       "      <td>10</td>\n",
       "    </tr>\n",
       "    <tr>\n",
       "      <th>11270811</th>\n",
       "      <td>강원</td>\n",
       "      <td>부산</td>\n",
       "      <td>해운대구</td>\n",
       "      <td>취미오락</td>\n",
       "      <td>미용</td>\n",
       "      <td>F</td>\n",
       "      <td>50</td>\n",
       "      <td>202007</td>\n",
       "      <td>WHITE</td>\n",
       "      <td>활동</td>\n",
       "      <td>45810</td>\n",
       "      <td>5</td>\n",
       "    </tr>\n",
       "    <tr>\n",
       "      <th>11270812</th>\n",
       "      <td>경남</td>\n",
       "      <td>부산</td>\n",
       "      <td>해운대구</td>\n",
       "      <td>여행</td>\n",
       "      <td>체험</td>\n",
       "      <td>M</td>\n",
       "      <td>40</td>\n",
       "      <td>202012</td>\n",
       "      <td>RED</td>\n",
       "      <td>휴식</td>\n",
       "      <td>38325</td>\n",
       "      <td>5</td>\n",
       "    </tr>\n",
       "    <tr>\n",
       "      <th>11270813</th>\n",
       "      <td>울산</td>\n",
       "      <td>부산</td>\n",
       "      <td>해운대구</td>\n",
       "      <td>취미오락</td>\n",
       "      <td>목욕</td>\n",
       "      <td>M</td>\n",
       "      <td>50</td>\n",
       "      <td>202011</td>\n",
       "      <td>RED</td>\n",
       "      <td>활동</td>\n",
       "      <td>122640</td>\n",
       "      <td>15</td>\n",
       "    </tr>\n",
       "  </tbody>\n",
       "</table>\n",
       "<p>11270814 rows × 12 columns</p>\n",
       "</div>"
      ],
      "text/plain": [
       "          v1  v2    v3     gb3  ... daw_ccd_r apv_ts_dl_tm_r        vlm   usec\n",
       "0         경기  경기   오산시    취미오락  ...     WHITE             휴식  443819721  20202\n",
       "1         경기  서울   동작구    취미오락  ...     WHITE             활동   20205112    236\n",
       "2         전남  전남   광양시    취미오락  ...     WHITE             취침   26202080    190\n",
       "3         부산  부산   금정구    취미오락  ...     WHITE             활동    3162020     60\n",
       "4         충북  서울   종로구      여행  ...       RED             활동    6932020     69\n",
       "...       ..  ..   ...     ...  ...       ...            ...        ...    ...\n",
       "11270809  경기  부산  해운대구    취미오락  ...     WHITE             휴식     127750      5\n",
       "11270810  울산  부산  해운대구  문화예술활동  ...     WHITE             휴식    1946910     10\n",
       "11270811  강원  부산  해운대구    취미오락  ...     WHITE             활동      45810      5\n",
       "11270812  경남  부산  해운대구      여행  ...       RED             휴식      38325      5\n",
       "11270813  울산  부산  해운대구    취미오락  ...       RED             활동     122640     15\n",
       "\n",
       "[11270814 rows x 12 columns]"
      ]
     },
     "execution_count": 8,
     "metadata": {
      "tags": []
     },
     "output_type": "execute_result"
    }
   ],
   "source": [
    "a"
   ]
  },
  {
   "cell_type": "code",
   "execution_count": 9,
   "metadata": {
    "executionInfo": {
     "elapsed": 2137,
     "status": "ok",
     "timestamp": 1626013352222,
     "user": {
      "displayName": "박민성",
      "photoUrl": "",
      "userId": "08980322067180288543"
     },
     "user_tz": -540
    },
    "id": "2E_gMMNZJTIt"
   },
   "outputs": [],
   "source": [
    "b = a[a['ta_ym'] > 201912]\n",
    "c = b[b['ta_ym'] < 202100]"
   ]
  },
  {
   "cell_type": "code",
   "execution_count": 10,
   "metadata": {
    "executionInfo": {
     "elapsed": 9,
     "status": "ok",
     "timestamp": 1626013352226,
     "user": {
      "displayName": "박민성",
      "photoUrl": "",
      "userId": "08980322067180288543"
     },
     "user_tz": -540
    },
    "id": "EdiQnRlqR6dU"
   },
   "outputs": [],
   "source": [
    "c.reset_index(inplace=True,drop=True)"
   ]
  },
  {
   "cell_type": "code",
   "execution_count": 11,
   "metadata": {
    "colab": {
     "base_uri": "https://localhost:8080/"
    },
    "executionInfo": {
     "elapsed": 8,
     "status": "ok",
     "timestamp": 1626013352226,
     "user": {
      "displayName": "박민성",
      "photoUrl": "",
      "userId": "08980322067180288543"
     },
     "user_tz": -540
    },
    "id": "eF-MR5jiR6xe",
    "outputId": "e99a7f97-c7a5-4af1-986c-db55dd30e3f8"
   },
   "outputs": [
    {
     "data": {
      "text/plain": [
       "202008    1022177\n",
       "202001    1015403\n",
       "202010    1004240\n",
       "202007     996978\n",
       "202005     987854\n",
       "202006     960942\n",
       "202011     958233\n",
       "202002     904508\n",
       "202009     885528\n",
       "202004     871036\n",
       "202003     827245\n",
       "202012     788676\n",
       "Name: ta_ym, dtype: int64"
      ]
     },
     "execution_count": 11,
     "metadata": {
      "tags": []
     },
     "output_type": "execute_result"
    }
   ],
   "source": [
    "c['ta_ym'].value_counts()"
   ]
  },
  {
   "cell_type": "code",
   "execution_count": 12,
   "metadata": {
    "executionInfo": {
     "elapsed": 49256,
     "status": "ok",
     "timestamp": 1626013401476,
     "user": {
      "displayName": "박민성",
      "photoUrl": "",
      "userId": "08980322067180288543"
     },
     "user_tz": -540
    },
    "id": "avH4m7JYSLKX"
   },
   "outputs": [],
   "source": [
    "c.to_csv('/content/drive/My Drive/관광/2020년카드.csv',index=False)"
   ]
  },
  {
   "cell_type": "code",
   "execution_count": 13,
   "metadata": {
    "colab": {
     "base_uri": "https://localhost:8080/"
    },
    "executionInfo": {
     "elapsed": 662,
     "status": "ok",
     "timestamp": 1626013402130,
     "user": {
      "displayName": "박민성",
      "photoUrl": "",
      "userId": "08980322067180288543"
     },
     "user_tz": -540
    },
    "id": "UmZxoyjJS-3l",
    "outputId": "8241de99-4529-45fb-952c-c06c22b9f72e"
   },
   "outputs": [
    {
     "data": {
      "text/plain": [
       "count    1.122282e+07\n",
       "mean     2.892991e+07\n",
       "std      5.240629e+08\n",
       "min      0.000000e+00\n",
       "25%      1.679920e+05\n",
       "50%      6.682500e+05\n",
       "75%      3.208569e+06\n",
       "max      7.666825e+11\n",
       "Name: vlm, dtype: float64"
      ]
     },
     "execution_count": 13,
     "metadata": {
      "tags": []
     },
     "output_type": "execute_result"
    }
   ],
   "source": [
    "c['vlm'].describe()"
   ]
  },
  {
   "cell_type": "code",
   "execution_count": 14,
   "metadata": {
    "executionInfo": {
     "elapsed": 1355,
     "status": "ok",
     "timestamp": 1626013403484,
     "user": {
      "displayName": "박민성",
      "photoUrl": "",
      "userId": "08980322067180288543"
     },
     "user_tz": -540
    },
    "id": "ai7_fdRFWcw9"
   },
   "outputs": [],
   "source": [
    "d =c[(c['v1'] == '전남') & (c['v2'] == '세종')]"
   ]
  },
  {
   "cell_type": "code",
   "execution_count": 15,
   "metadata": {
    "colab": {
     "base_uri": "https://localhost:8080/",
     "height": 352
    },
    "executionInfo": {
     "elapsed": 1245,
     "status": "ok",
     "timestamp": 1626013404726,
     "user": {
      "displayName": "박민성",
      "photoUrl": "",
      "userId": "08980322067180288543"
     },
     "user_tz": -540
    },
    "id": "teogm__qURQm",
    "outputId": "4c46604a-61c4-4fff-b5d5-343b367a7f3d"
   },
   "outputs": [
    {
     "data": {
      "text/plain": [
       "<matplotlib.axes._subplots.AxesSubplot at 0x7f0753e64710>"
      ]
     },
     "execution_count": 15,
     "metadata": {
      "tags": []
     },
     "output_type": "execute_result"
    },
    {
     "data": {
      "image/png": "[encoded data removed]",
      "text/plain": [
       "<Figure size 720x360 with 1 Axes>"
      ]
     },
     "metadata": {
      "needs_background": "light",
      "tags": []
     },
     "output_type": "display_data"
    }
   ],
   "source": [
    "import pandas as pd\n",
    "from matplotlib import pyplot as plt\n",
    "import seaborn as sns\n",
    "plt.figure(figsize=(10,5))\n",
    "plt.rc('font', family='NanumBarunGothic')\n",
    "sns.barplot(data=d,\n",
    "            x=\"sex_ccd\",\n",
    "            y=\"cln_age_r\",\n",
    "            hue=\"gb3\")"
   ]
  },
  {
   "cell_type": "code",
   "execution_count": 1,
   "metadata": {
    "ExecuteTime": {
     "end_time": "2021-07-24T08:17:02.464735Z",
     "start_time": "2021-07-24T08:16:40.486875Z"
    },
    "executionInfo": {
     "elapsed": 10,
     "status": "ok",
     "timestamp": 1626013404727,
     "user": {
      "displayName": "박민성",
      "photoUrl": "",
      "userId": "08980322067180288543"
     },
     "user_tz": -540
    },
    "id": "Wq5ljWVzVA4t"
   },
   "outputs": [],
   "source": [
    "import pandas as pd\n",
    "\n",
    "df = pd.read_csv(\"2020년카드.csv\")"
   ]
  },
  {
   "cell_type": "code",
   "execution_count": 2,
   "metadata": {
    "ExecuteTime": {
     "end_time": "2021-07-24T08:17:02.646263Z",
     "start_time": "2021-07-24T08:17:02.499631Z"
    }
   },
   "outputs": [
    {
     "data": {
      "text/html": [
       "<div>\n",
       "<style scoped>\n",
       "    .dataframe tbody tr th:only-of-type {\n",
       "        vertical-align: middle;\n",
       "    }\n",
       "\n",
       "    .dataframe tbody tr th {\n",
       "        vertical-align: top;\n",
       "    }\n",
       "\n",
       "    .dataframe thead th {\n",
       "        text-align: right;\n",
       "    }\n",
       "</style>\n",
       "<table border=\"1\" class=\"dataframe\">\n",
       "  <thead>\n",
       "    <tr style=\"text-align: right;\">\n",
       "      <th></th>\n",
       "      <th>v1</th>\n",
       "      <th>v2</th>\n",
       "      <th>v3</th>\n",
       "      <th>gb3</th>\n",
       "      <th>gb2</th>\n",
       "      <th>sex_ccd</th>\n",
       "      <th>cln_age_r</th>\n",
       "      <th>ta_ym</th>\n",
       "      <th>daw_ccd_r</th>\n",
       "      <th>apv_ts_dl_tm_r</th>\n",
       "      <th>vlm</th>\n",
       "      <th>usec</th>\n",
       "    </tr>\n",
       "  </thead>\n",
       "  <tbody>\n",
       "    <tr>\n",
       "      <th>0</th>\n",
       "      <td>경기</td>\n",
       "      <td>세종</td>\n",
       "      <td>.</td>\n",
       "      <td>취미오락</td>\n",
       "      <td>유흥</td>\n",
       "      <td>M</td>\n",
       "      <td>40</td>\n",
       "      <td>202001</td>\n",
       "      <td>RED</td>\n",
       "      <td>휴식</td>\n",
       "      <td>6410700</td>\n",
       "      <td>45</td>\n",
       "    </tr>\n",
       "    <tr>\n",
       "      <th>1</th>\n",
       "      <td>경남</td>\n",
       "      <td>세종</td>\n",
       "      <td>.</td>\n",
       "      <td>스포츠활동</td>\n",
       "      <td>레저스포츠</td>\n",
       "      <td>M</td>\n",
       "      <td>30</td>\n",
       "      <td>202001</td>\n",
       "      <td>RED</td>\n",
       "      <td>활동</td>\n",
       "      <td>147900</td>\n",
       "      <td>15</td>\n",
       "    </tr>\n",
       "    <tr>\n",
       "      <th>2</th>\n",
       "      <td>광주</td>\n",
       "      <td>세종</td>\n",
       "      <td>.</td>\n",
       "      <td>취미오락</td>\n",
       "      <td>패션쇼핑</td>\n",
       "      <td>M</td>\n",
       "      <td>30</td>\n",
       "      <td>202001</td>\n",
       "      <td>RED</td>\n",
       "      <td>휴식</td>\n",
       "      <td>793050</td>\n",
       "      <td>5</td>\n",
       "    </tr>\n",
       "    <tr>\n",
       "      <th>3</th>\n",
       "      <td>인천</td>\n",
       "      <td>세종</td>\n",
       "      <td>.</td>\n",
       "      <td>취미오락</td>\n",
       "      <td>인터넷게임</td>\n",
       "      <td>M</td>\n",
       "      <td>30</td>\n",
       "      <td>202001</td>\n",
       "      <td>RED</td>\n",
       "      <td>취침</td>\n",
       "      <td>10200</td>\n",
       "      <td>10</td>\n",
       "    </tr>\n",
       "    <tr>\n",
       "      <th>4</th>\n",
       "      <td>경기</td>\n",
       "      <td>세종</td>\n",
       "      <td>.</td>\n",
       "      <td>취미오락</td>\n",
       "      <td>유흥</td>\n",
       "      <td>M</td>\n",
       "      <td>40</td>\n",
       "      <td>202001</td>\n",
       "      <td>RED</td>\n",
       "      <td>취침</td>\n",
       "      <td>382500</td>\n",
       "      <td>5</td>\n",
       "    </tr>\n",
       "    <tr>\n",
       "      <th>...</th>\n",
       "      <td>...</td>\n",
       "      <td>...</td>\n",
       "      <td>...</td>\n",
       "      <td>...</td>\n",
       "      <td>...</td>\n",
       "      <td>...</td>\n",
       "      <td>...</td>\n",
       "      <td>...</td>\n",
       "      <td>...</td>\n",
       "      <td>...</td>\n",
       "      <td>...</td>\n",
       "      <td>...</td>\n",
       "    </tr>\n",
       "    <tr>\n",
       "      <th>11231456</th>\n",
       "      <td>경남</td>\n",
       "      <td>부산</td>\n",
       "      <td>해운대구</td>\n",
       "      <td>여행</td>\n",
       "      <td>체험</td>\n",
       "      <td>M</td>\n",
       "      <td>20</td>\n",
       "      <td>202008</td>\n",
       "      <td>WHITE</td>\n",
       "      <td>활동</td>\n",
       "      <td>423200</td>\n",
       "      <td>15</td>\n",
       "    </tr>\n",
       "    <tr>\n",
       "      <th>11231457</th>\n",
       "      <td>대구</td>\n",
       "      <td>부산</td>\n",
       "      <td>해운대구</td>\n",
       "      <td>여행</td>\n",
       "      <td>숙박</td>\n",
       "      <td>F</td>\n",
       "      <td>30</td>\n",
       "      <td>202011</td>\n",
       "      <td>WHITE</td>\n",
       "      <td>휴식</td>\n",
       "      <td>1652500</td>\n",
       "      <td>12</td>\n",
       "    </tr>\n",
       "    <tr>\n",
       "      <th>11231458</th>\n",
       "      <td>부산</td>\n",
       "      <td>부산</td>\n",
       "      <td>해운대구</td>\n",
       "      <td>스포츠활동</td>\n",
       "      <td>골프</td>\n",
       "      <td>M</td>\n",
       "      <td>40</td>\n",
       "      <td>202009</td>\n",
       "      <td>WHITE</td>\n",
       "      <td>휴식</td>\n",
       "      <td>3105000</td>\n",
       "      <td>101</td>\n",
       "    </tr>\n",
       "    <tr>\n",
       "      <th>11231459</th>\n",
       "      <td>전북</td>\n",
       "      <td>부산</td>\n",
       "      <td>해운대구</td>\n",
       "      <td>여행</td>\n",
       "      <td>숙박</td>\n",
       "      <td>M</td>\n",
       "      <td>50</td>\n",
       "      <td>202008</td>\n",
       "      <td>RED</td>\n",
       "      <td>활동</td>\n",
       "      <td>104000</td>\n",
       "      <td>2</td>\n",
       "    </tr>\n",
       "    <tr>\n",
       "      <th>11231460</th>\n",
       "      <td>경기</td>\n",
       "      <td>부산</td>\n",
       "      <td>해운대구</td>\n",
       "      <td>취미오락</td>\n",
       "      <td>인터넷게임</td>\n",
       "      <td>F</td>\n",
       "      <td>40</td>\n",
       "      <td>202008</td>\n",
       "      <td>WHITE</td>\n",
       "      <td>활동</td>\n",
       "      <td>6000</td>\n",
       "      <td>2</td>\n",
       "    </tr>\n",
       "  </tbody>\n",
       "</table>\n",
       "<p>11231461 rows × 12 columns</p>\n",
       "</div>"
      ],
      "text/plain": [
       "          v1  v2    v3    gb3    gb2 sex_ccd  cln_age_r   ta_ym daw_ccd_r  \\\n",
       "0         경기  세종     .   취미오락     유흥       M         40  202001       RED   \n",
       "1         경남  세종     .  스포츠활동  레저스포츠       M         30  202001       RED   \n",
       "2         광주  세종     .   취미오락   패션쇼핑       M         30  202001       RED   \n",
       "3         인천  세종     .   취미오락  인터넷게임       M         30  202001       RED   \n",
       "4         경기  세종     .   취미오락     유흥       M         40  202001       RED   \n",
       "...       ..  ..   ...    ...    ...     ...        ...     ...       ...   \n",
       "11231456  경남  부산  해운대구     여행     체험       M         20  202008     WHITE   \n",
       "11231457  대구  부산  해운대구     여행     숙박       F         30  202011     WHITE   \n",
       "11231458  부산  부산  해운대구  스포츠활동     골프       M         40  202009     WHITE   \n",
       "11231459  전북  부산  해운대구     여행     숙박       M         50  202008       RED   \n",
       "11231460  경기  부산  해운대구   취미오락  인터넷게임       F         40  202008     WHITE   \n",
       "\n",
       "         apv_ts_dl_tm_r      vlm  usec  \n",
       "0                    휴식  6410700    45  \n",
       "1                    활동   147900    15  \n",
       "2                    휴식   793050     5  \n",
       "3                    취침    10200    10  \n",
       "4                    취침   382500     5  \n",
       "...                 ...      ...   ...  \n",
       "11231456             활동   423200    15  \n",
       "11231457             휴식  1652500    12  \n",
       "11231458             휴식  3105000   101  \n",
       "11231459             활동   104000     2  \n",
       "11231460             활동     6000     2  \n",
       "\n",
       "[11231461 rows x 12 columns]"
      ]
     },
     "execution_count": 2,
     "metadata": {},
     "output_type": "execute_result"
    }
   ],
   "source": [
    "df"
   ]
  },
  {
   "cell_type": "code",
   "execution_count": null,
   "metadata": {},
   "outputs": [],
   "source": []
  }
 ],
 "metadata": {
  "colab": {
   "authorship_tag": "ABX9TyM+gflvHEcgOuFHTaRae9Bo",
   "collapsed_sections": [],
   "name": "card_2020_관광.ipynb",
   "provenance": []
  },
  "hide_input": false,
  "kernelspec": {
   "display_name": "Python 3",
   "language": "python",
   "name": "python3"
  },
  "language_info": {
   "codemirror_mode": {
    "name": "ipython",
    "version": 3
   },
   "file_extension": ".py",
   "mimetype": "text/x-python",
   "name": "python",
   "nbconvert_exporter": "python",
   "pygments_lexer": "ipython3",
   "version": "3.7.6"
  }
 },
 "nbformat": 4,
 "nbformat_minor": 1
}
